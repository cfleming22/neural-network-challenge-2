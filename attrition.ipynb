## Part 1: Preprocessing
# ... (rest of the code remains the same)

## Part 2: Create, Compile, and Train the Model
# Find the number of columns in the X training data
X_train_columns = X_train.shape[1]
print("Number of columns in X_train:", X_train_columns)

# Create the input layer
input_layer = layers.Input(shape=(X_train_columns,))

# Create at least two shared layers
shared_layer1 = layers.Dense(64, activation='relu')(input_layer)
shared_layer2 = layers.Dense(32, activation='relu')(shared_layer1)

# Create a branch for Department
department_branch = layers.Dense(16, activation='relu')(shared_layer2)
department_output = layers.Dense(len(np.unique(y_train[:, 1:]), activation='softmax')(department_branch)

# Create a branch for Attrition
attrition_branch = layers.Dense(16, activation='relu')(shared_layer2)
attrition_output = layers.Dense(len(np.unique(y_train[:, 0]), activation='softmax')(attrition_branch)

# Create the model
model = Model(inputs=input_layer, outputs=[department_output, attrition_output])

# Compile the model
model.compile(optimizer='adam', loss=['categorical_crossentropy', 'categorical_crossentropy'], metrics=['accuracy'])

# Train the model
model.fit(X_train, [y_train[:, 1:], y_train[:, 0]], epochs=10, batch_size=128, validation_data=(X_test, [y_test[:, 1:], y_test[:, 0]]))

# Evaluate the model
department_loss, department_accuracy, attrition_loss, attrition_accuracy = model.evaluate(X_test, [y_test[:, 1:], y_test[:, 0]])

# Print the accuracy for both Department and Attrition
print("Department Accuracy:", department_accuracy)
print("Attrition Accuracy:", attrition_accuracy)
